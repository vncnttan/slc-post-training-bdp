{
 "cells": [
  {
   "cell_type": "code",
   "execution_count": 1,
   "metadata": {},
   "outputs": [],
   "source": [
    "from pyspark.sql import SparkSession\n",
    "from pyspark.sql.functions import *\n",
    "from pyspark.ml.feature import VectorAssembler, StandardScaler\n",
    "from pyspark.ml.classification import LogisticRegression\n",
    "from pyspark.ml.evaluation import BinaryClassificationEvaluator"
   ]
  },
  {
   "cell_type": "code",
   "execution_count": 2,
   "metadata": {},
   "outputs": [
    {
     "name": "stderr",
     "output_type": "stream",
     "text": [
      "d:\\BINUS\\BLUEJACK_nar\\04. Post Training\\29. Big Data Processing\\Materi\\PTSpark\\.venv\\lib\\site-packages\\pyspark\\context.py:317: FutureWarning: Python 3.7 support is deprecated in Spark 3.4.\n",
      "  warnings.warn(\"Python 3.7 support is deprecated in Spark 3.4.\", FutureWarning)\n"
     ]
    }
   ],
   "source": [
    "spark = SparkSession.builder.getOrCreate()"
   ]
  },
  {
   "cell_type": "code",
   "execution_count": 3,
   "metadata": {},
   "outputs": [
    {
     "name": "stdout",
     "output_type": "stream",
     "text": [
      "+----+---------------+-----+--------+-----------+\n",
      "| age|smoking_history|  bmi|diabetes|HbA1c_level|\n",
      "+----+---------------+-----+--------+-----------+\n",
      "|80.0|          never|25.19|       0|        6.6|\n",
      "|54.0|        No Info|27.32|       0|        6.6|\n",
      "|28.0|          never|27.32|       0|        5.7|\n",
      "|36.0|        current|23.45|       0|        5.0|\n",
      "|76.0|        current|20.14|       0|        4.8|\n",
      "|20.0|          never|27.32|       0|        6.6|\n",
      "|44.0|          never|19.31|       1|        6.5|\n",
      "|79.0|        No Info|23.86|       0|        5.7|\n",
      "|42.0|          never|33.64|       0|        4.8|\n",
      "|32.0|          never|27.32|       0|        5.0|\n",
      "|53.0|          never|27.32|       0|        6.1|\n",
      "|54.0|         former| 54.7|       0|        6.0|\n",
      "|78.0|         former|36.05|       0|        5.0|\n",
      "|67.0|          never|25.69|       0|        5.8|\n",
      "|76.0|        No Info|27.32|       0|        5.0|\n",
      "|78.0|        No Info|27.32|       0|        6.6|\n",
      "|15.0|          never|30.36|       0|        6.1|\n",
      "|42.0|          never|24.48|       0|        5.7|\n",
      "|42.0|        No Info|27.32|       0|        5.7|\n",
      "|37.0|           ever|25.72|       0|        3.5|\n",
      "+----+---------------+-----+--------+-----------+\n",
      "only showing top 20 rows\n",
      "\n"
     ]
    }
   ],
   "source": [
    "# Import Data\n",
    "df_train = spark.read.csv('./Classification/diabetes_prediction_training.csv', header=True, inferSchema=True)\n",
    "df_test = spark.read.csv('./Classification/diabetes_prediction_testing.csv', header=True, inferSchema=True)\n",
    "\n",
    "# Selecting Features & Label Col\n",
    "df_train = df_train.select('age', 'smoking_history', \"bmi\", \"diabetes\", \"HbA1c_level\")\n",
    "df_test = df_test.select('age', 'smoking_history', \"bmi\", \"diabetes\", \"HbA1c_level\")\n",
    "\n",
    "# Filter NA data\n",
    "df_train.show()"
   ]
  },
  {
   "cell_type": "markdown",
   "metadata": {},
   "source": [
    "- never = 0\n",
    "- ever = 1\n",
    "- No Info = 2\n",
    "- not current = 3\n",
    "- former = 4\n",
    "- current = 5"
   ]
  },
  {
   "cell_type": "code",
   "execution_count": 4,
   "metadata": {},
   "outputs": [
    {
     "name": "stdout",
     "output_type": "stream",
     "text": [
      "+----+---------------+-----+--------+-----------+\n",
      "| age|smoking_history|  bmi|diabetes|HbA1c_level|\n",
      "+----+---------------+-----+--------+-----------+\n",
      "|80.0|              0|25.19|       0|        6.6|\n",
      "|54.0|              2|27.32|       0|        6.6|\n",
      "|28.0|              0|27.32|       0|        5.7|\n",
      "|36.0|              5|23.45|       0|        5.0|\n",
      "|76.0|              5|20.14|       0|        4.8|\n",
      "|20.0|              0|27.32|       0|        6.6|\n",
      "|44.0|              0|19.31|       1|        6.5|\n",
      "|79.0|              2|23.86|       0|        5.7|\n",
      "|42.0|              0|33.64|       0|        4.8|\n",
      "|32.0|              0|27.32|       0|        5.0|\n",
      "|53.0|              0|27.32|       0|        6.1|\n",
      "|54.0|              4| 54.7|       0|        6.0|\n",
      "|78.0|              4|36.05|       0|        5.0|\n",
      "|67.0|              0|25.69|       0|        5.8|\n",
      "|76.0|              2|27.32|       0|        5.0|\n",
      "|78.0|              2|27.32|       0|        6.6|\n",
      "|15.0|              0|30.36|       0|        6.1|\n",
      "|42.0|              0|24.48|       0|        5.7|\n",
      "|42.0|              2|27.32|       0|        5.7|\n",
      "|37.0|              1|25.72|       0|        3.5|\n",
      "+----+---------------+-----+--------+-----------+\n",
      "only showing top 20 rows\n",
      "\n"
     ]
    }
   ],
   "source": [
    "df_train = df_train.withColumn(\"smoking_history\", \n",
    "                                   when(df_train[\"smoking_history\"] == \"never\", 0)\n",
    "                                   .when(df_train[\"smoking_history\"] == \"ever\", 1)\n",
    "                                   .when(df_train[\"smoking_history\"] == \"No Info\", 2)\n",
    "                                   .when(df_train[\"smoking_history\"] == \"not current\", 3)\n",
    "                                   .when(df_train[\"smoking_history\"] == \"former\", 4)\n",
    "                                   .when(df_train[\"smoking_history\"] == \"current\", 5))\n",
    "\n",
    "df_test = df_test.withColumn(\"smoking_history\", \n",
    "                                   when(df_test[\"smoking_history\"] == \"never\", 0)\n",
    "                                   .when(df_test[\"smoking_history\"] == \"ever\", 1)\n",
    "                                   .when(df_test[\"smoking_history\"] == \"No Info\", 2)\n",
    "                                   .when(df_test[\"smoking_history\"] == \"not current\", 3)\n",
    "                                   .when(df_test[\"smoking_history\"] == \"former\", 4)\n",
    "                                   .when(df_test[\"smoking_history\"] == \"current\", 5))\n",
    "\n",
    "\n",
    "df_train.show()"
   ]
  },
  {
   "cell_type": "code",
   "execution_count": 5,
   "metadata": {},
   "outputs": [
    {
     "name": "stdout",
     "output_type": "stream",
     "text": [
      "Result: 92.61648285427995%\n"
     ]
    }
   ],
   "source": [
    "# Normalization\n",
    "df_train = df_train.na.drop()\n",
    "df_test = df_test.na.drop()\n",
    "\n",
    "cols = df_train.columns\n",
    "cols.remove(\"diabetes\")\n",
    "\n",
    "df_train = VectorAssembler(inputCols=cols, outputCol=\"VectorOut\").transform(df_train)\n",
    "df_train = StandardScaler(inputCol=\"VectorOut\", outputCol=\"features\").fit(df_train)\\\n",
    "                                                                        .transform(df_train)\n",
    "\n",
    "df_test = VectorAssembler(inputCols=cols, outputCol=\"VectorOut\").transform(df_test)\n",
    "df_test = StandardScaler(inputCol=\"VectorOut\", outputCol=\"features\").fit(df_test)\\\n",
    "                                                                        .transform(df_test)\n",
    "\n",
    "# Model\n",
    "model = LogisticRegression(featuresCol=\"features\", labelCol=\"diabetes\", maxIter=100).fit(df_train)\n",
    "\n",
    "# Evaluate\n",
    "evaluator = BinaryClassificationEvaluator(labelCol=\"diabetes\")\n",
    "print(f\"Result: {evaluator.evaluate(model.transform(df_test)) * 100}%\")\n"
   ]
  },
  {
   "cell_type": "code",
   "execution_count": null,
   "metadata": {},
   "outputs": [],
   "source": []
  }
 ],
 "metadata": {
  "kernelspec": {
   "display_name": ".venv",
   "language": "python",
   "name": "python3"
  },
  "language_info": {
   "codemirror_mode": {
    "name": "ipython",
    "version": 3
   },
   "file_extension": ".py",
   "mimetype": "text/x-python",
   "name": "python",
   "nbconvert_exporter": "python",
   "pygments_lexer": "ipython3",
   "version": "3.7.6"
  }
 },
 "nbformat": 4,
 "nbformat_minor": 2
}
